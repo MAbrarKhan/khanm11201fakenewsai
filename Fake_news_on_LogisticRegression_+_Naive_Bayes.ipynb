{
  "nbformat": 4,
  "nbformat_minor": 0,
  "metadata": {
    "colab": {
      "name": "Fake_news on LogisticRegression + Naive_Bayes .ipynb",
      "provenance": [],
      "collapsed_sections": []
    },
    "kernelspec": {
      "name": "python3",
      "display_name": "Python 3"
    },
    "language_info": {
      "name": "python"
    }
  },
  "cells": [
    {
      "cell_type": "code",
      "metadata": {
        "id": "bk9nmNPf3A3w"
      },
      "source": [
        "import os\n",
        "import re\n",
        "from bs4 import BeautifulSoup\n",
        "from tqdm import tqdm\n",
        "\n",
        "import pandas as pd\n",
        "import numpy as np\n",
        "import matplotlib.pyplot as plt\n",
        "import seaborn as sns\n",
        "\n",
        "import warnings\n",
        "warnings.filterwarnings(\"ignore\")"
      ],
      "execution_count": 2,
      "outputs": []
    },
    {
      "cell_type": "code",
      "metadata": {
        "id": "w9DIuJX93eKa"
      },
      "source": [
        "from sklearn.model_selection import train_test_split\n",
        "from sklearn.linear_model import LogisticRegression\n",
        "from sklearn.naive_bayes import MultinomialNB\n",
        "from sklearn.metrics import accuracy_score, confusion_matrix, precision_score\n",
        "from sklearn.metrics import classification_report"
      ],
      "execution_count": 3,
      "outputs": []
    },
    {
      "cell_type": "code",
      "metadata": {
        "colab": {
          "base_uri": "https://localhost:8080/"
        },
        "id": "RlkNGnl33gkH",
        "outputId": "575e3caf-87d8-4391-839f-13b411171d88"
      },
      "source": [
        "import nltk\n",
        "nltk.download('punkt')\n",
        "nltk.download('stopwords')\n",
        "from nltk.tokenize import word_tokenize\n",
        "from nltk.stem import SnowballStemmer, WordNetLemmatizer\n",
        "from nltk.corpus import stopwords\n",
        "from nltk.stem.porter import PorterStemmer\n",
        "from sklearn.feature_extraction.text import TfidfVectorizer, CountVectorizer\n",
        "from sklearn.model_selection import train_test_split"
      ],
      "execution_count": 4,
      "outputs": [
        {
          "output_type": "stream",
          "name": "stdout",
          "text": [
            "[nltk_data] Downloading package punkt to /root/nltk_data...\n",
            "[nltk_data]   Unzipping tokenizers/punkt.zip.\n",
            "[nltk_data] Downloading package stopwords to /root/nltk_data...\n",
            "[nltk_data]   Unzipping corpora/stopwords.zip.\n"
          ]
        }
      ]
    },
    {
      "cell_type": "code",
      "metadata": {
        "id": "BqjxoebBAucU"
      },
      "source": [
        "df_fake = pd.read_csv('/content/drive/My Drive/mydatasets/fake_news/Fake.csv', header=0)"
      ],
      "execution_count": 5,
      "outputs": []
    },
    {
      "cell_type": "code",
      "metadata": {
        "id": "RxJcy9lKBK9C"
      },
      "source": [
        "df_true = pd.read_csv('/content/drive/My Drive/mydatasets/fake_news/True.csv', header=0)"
      ],
      "execution_count": 6,
      "outputs": []
    },
    {
      "cell_type": "code",
      "metadata": {
        "id": "hDCaOPiNBQO1"
      },
      "source": [
        "df_fake['label'] = ['Fake' for x in range(0,len(df_fake))]"
      ],
      "execution_count": 7,
      "outputs": []
    },
    {
      "cell_type": "code",
      "metadata": {
        "id": "LMaKMEahBmei"
      },
      "source": [
        "df_true['label'] = ['True' for x in range(0,len(df_true))]"
      ],
      "execution_count": 8,
      "outputs": []
    },
    {
      "cell_type": "code",
      "metadata": {
        "colab": {
          "base_uri": "https://localhost:8080/",
          "height": 206
        },
        "id": "BuMRVaJqBigA",
        "outputId": "135a430d-78d5-4d47-c5e5-afeec4e19686"
      },
      "source": [
        "df_fake.head()"
      ],
      "execution_count": 9,
      "outputs": [
        {
          "output_type": "execute_result",
          "data": {
            "text/html": [
              "<div>\n",
              "<style scoped>\n",
              "    .dataframe tbody tr th:only-of-type {\n",
              "        vertical-align: middle;\n",
              "    }\n",
              "\n",
              "    .dataframe tbody tr th {\n",
              "        vertical-align: top;\n",
              "    }\n",
              "\n",
              "    .dataframe thead th {\n",
              "        text-align: right;\n",
              "    }\n",
              "</style>\n",
              "<table border=\"1\" class=\"dataframe\">\n",
              "  <thead>\n",
              "    <tr style=\"text-align: right;\">\n",
              "      <th></th>\n",
              "      <th>title</th>\n",
              "      <th>text</th>\n",
              "      <th>subject</th>\n",
              "      <th>date</th>\n",
              "      <th>label</th>\n",
              "    </tr>\n",
              "  </thead>\n",
              "  <tbody>\n",
              "    <tr>\n",
              "      <th>0</th>\n",
              "      <td>Donald Trump Sends Out Embarrassing New Year’...</td>\n",
              "      <td>Donald Trump just couldn t wish all Americans ...</td>\n",
              "      <td>News</td>\n",
              "      <td>December 31, 2017</td>\n",
              "      <td>Fake</td>\n",
              "    </tr>\n",
              "    <tr>\n",
              "      <th>1</th>\n",
              "      <td>Drunk Bragging Trump Staffer Started Russian ...</td>\n",
              "      <td>House Intelligence Committee Chairman Devin Nu...</td>\n",
              "      <td>News</td>\n",
              "      <td>December 31, 2017</td>\n",
              "      <td>Fake</td>\n",
              "    </tr>\n",
              "    <tr>\n",
              "      <th>2</th>\n",
              "      <td>Sheriff David Clarke Becomes An Internet Joke...</td>\n",
              "      <td>On Friday, it was revealed that former Milwauk...</td>\n",
              "      <td>News</td>\n",
              "      <td>December 30, 2017</td>\n",
              "      <td>Fake</td>\n",
              "    </tr>\n",
              "    <tr>\n",
              "      <th>3</th>\n",
              "      <td>Trump Is So Obsessed He Even Has Obama’s Name...</td>\n",
              "      <td>On Christmas day, Donald Trump announced that ...</td>\n",
              "      <td>News</td>\n",
              "      <td>December 29, 2017</td>\n",
              "      <td>Fake</td>\n",
              "    </tr>\n",
              "    <tr>\n",
              "      <th>4</th>\n",
              "      <td>Pope Francis Just Called Out Donald Trump Dur...</td>\n",
              "      <td>Pope Francis used his annual Christmas Day mes...</td>\n",
              "      <td>News</td>\n",
              "      <td>December 25, 2017</td>\n",
              "      <td>Fake</td>\n",
              "    </tr>\n",
              "  </tbody>\n",
              "</table>\n",
              "</div>"
            ],
            "text/plain": [
              "                                               title  ... label\n",
              "0   Donald Trump Sends Out Embarrassing New Year’...  ...  Fake\n",
              "1   Drunk Bragging Trump Staffer Started Russian ...  ...  Fake\n",
              "2   Sheriff David Clarke Becomes An Internet Joke...  ...  Fake\n",
              "3   Trump Is So Obsessed He Even Has Obama’s Name...  ...  Fake\n",
              "4   Pope Francis Just Called Out Donald Trump Dur...  ...  Fake\n",
              "\n",
              "[5 rows x 5 columns]"
            ]
          },
          "metadata": {},
          "execution_count": 9
        }
      ]
    },
    {
      "cell_type": "code",
      "metadata": {
        "colab": {
          "base_uri": "https://localhost:8080/",
          "height": 206
        },
        "id": "HwgUyccQBx49",
        "outputId": "a1b0d6d2-4d30-433c-c74a-7f20899f5137"
      },
      "source": [
        "df_true.head()"
      ],
      "execution_count": 10,
      "outputs": [
        {
          "output_type": "execute_result",
          "data": {
            "text/html": [
              "<div>\n",
              "<style scoped>\n",
              "    .dataframe tbody tr th:only-of-type {\n",
              "        vertical-align: middle;\n",
              "    }\n",
              "\n",
              "    .dataframe tbody tr th {\n",
              "        vertical-align: top;\n",
              "    }\n",
              "\n",
              "    .dataframe thead th {\n",
              "        text-align: right;\n",
              "    }\n",
              "</style>\n",
              "<table border=\"1\" class=\"dataframe\">\n",
              "  <thead>\n",
              "    <tr style=\"text-align: right;\">\n",
              "      <th></th>\n",
              "      <th>title</th>\n",
              "      <th>text</th>\n",
              "      <th>subject</th>\n",
              "      <th>date</th>\n",
              "      <th>label</th>\n",
              "    </tr>\n",
              "  </thead>\n",
              "  <tbody>\n",
              "    <tr>\n",
              "      <th>0</th>\n",
              "      <td>As U.S. budget fight looms, Republicans flip t...</td>\n",
              "      <td>WASHINGTON (Reuters) - The head of a conservat...</td>\n",
              "      <td>politicsNews</td>\n",
              "      <td>December 31, 2017</td>\n",
              "      <td>True</td>\n",
              "    </tr>\n",
              "    <tr>\n",
              "      <th>1</th>\n",
              "      <td>U.S. military to accept transgender recruits o...</td>\n",
              "      <td>WASHINGTON (Reuters) - Transgender people will...</td>\n",
              "      <td>politicsNews</td>\n",
              "      <td>December 29, 2017</td>\n",
              "      <td>True</td>\n",
              "    </tr>\n",
              "    <tr>\n",
              "      <th>2</th>\n",
              "      <td>Senior U.S. Republican senator: 'Let Mr. Muell...</td>\n",
              "      <td>WASHINGTON (Reuters) - The special counsel inv...</td>\n",
              "      <td>politicsNews</td>\n",
              "      <td>December 31, 2017</td>\n",
              "      <td>True</td>\n",
              "    </tr>\n",
              "    <tr>\n",
              "      <th>3</th>\n",
              "      <td>FBI Russia probe helped by Australian diplomat...</td>\n",
              "      <td>WASHINGTON (Reuters) - Trump campaign adviser ...</td>\n",
              "      <td>politicsNews</td>\n",
              "      <td>December 30, 2017</td>\n",
              "      <td>True</td>\n",
              "    </tr>\n",
              "    <tr>\n",
              "      <th>4</th>\n",
              "      <td>Trump wants Postal Service to charge 'much mor...</td>\n",
              "      <td>SEATTLE/WASHINGTON (Reuters) - President Donal...</td>\n",
              "      <td>politicsNews</td>\n",
              "      <td>December 29, 2017</td>\n",
              "      <td>True</td>\n",
              "    </tr>\n",
              "  </tbody>\n",
              "</table>\n",
              "</div>"
            ],
            "text/plain": [
              "                                               title  ... label\n",
              "0  As U.S. budget fight looms, Republicans flip t...  ...  True\n",
              "1  U.S. military to accept transgender recruits o...  ...  True\n",
              "2  Senior U.S. Republican senator: 'Let Mr. Muell...  ...  True\n",
              "3  FBI Russia probe helped by Australian diplomat...  ...  True\n",
              "4  Trump wants Postal Service to charge 'much mor...  ...  True\n",
              "\n",
              "[5 rows x 5 columns]"
            ]
          },
          "metadata": {},
          "execution_count": 10
        }
      ]
    },
    {
      "cell_type": "code",
      "metadata": {
        "id": "n6efcOL8B61Z"
      },
      "source": [
        "df = pd.concat([df_fake,df_true]) "
      ],
      "execution_count": 11,
      "outputs": []
    },
    {
      "cell_type": "code",
      "metadata": {
        "id": "XByalL7H4XFN"
      },
      "source": [
        "subj_vales_count=df['subject'].value_counts()"
      ],
      "execution_count": 14,
      "outputs": []
    },
    {
      "cell_type": "code",
      "metadata": {
        "colab": {
          "base_uri": "https://localhost:8080/"
        },
        "id": "vILyFD6e5ydY",
        "outputId": "35b2cf70-3fa3-452b-c560-cea587182b87"
      },
      "source": [
        "subj_vales_count"
      ],
      "execution_count": 18,
      "outputs": [
        {
          "output_type": "execute_result",
          "data": {
            "text/plain": [
              "politicsNews       11272\n",
              "worldnews          10145\n",
              "News                9050\n",
              "politics            6841\n",
              "left-news           4459\n",
              "Government News     1570\n",
              "US_News              783\n",
              "Middle-east          778\n",
              "Name: subject, dtype: int64"
            ]
          },
          "metadata": {},
          "execution_count": 18
        }
      ]
    },
    {
      "cell_type": "code",
      "metadata": {
        "colab": {
          "base_uri": "https://localhost:8080/",
          "height": 440
        },
        "id": "xkzKAQ6t68uQ",
        "outputId": "170bf274-1bc8-435f-f9c6-f7da2ce55faa"
      },
      "source": [
        "sns.set(font_scale=1.4)\n",
        "df['subject'].value_counts().plot(kind='barh', figsize=(7, 6), rot=0)\n",
        "plt.xlabel(\"Count\", labelpad=14)\n",
        "plt.ylabel(\"News from Subjects\", labelpad=14)\n",
        "plt.title(\"Count for all news by subjects\", y=1.02);"
      ],
      "execution_count": 28,
      "outputs": [
        {
          "output_type": "display_data",
          "data": {
            "image/png": "[encoded data removed]",
            "text/plain": [
              "<Figure size 504x432 with 1 Axes>"
            ]
          },
          "metadata": {}
        }
      ]
    },
    {
      "cell_type": "code",
      "metadata": {
        "colab": {
          "base_uri": "https://localhost:8080/",
          "height": 440
        },
        "id": "nPDFS6-k71Us",
        "outputId": "a0674b58-d24e-4a32-d95c-e2be36744242"
      },
      "source": [
        "sns.set(font_scale=1.4)\n",
        "df_fake['subject'].value_counts().plot(kind='barh', figsize=(7, 6), rot=0)\n",
        "plt.xlabel(\"Count\", labelpad=14)\n",
        "plt.ylabel(\"News from Subjects\", labelpad=14)\n",
        "plt.title(\"Fake news count by subjects\", y=1.02);"
      ],
      "execution_count": 29,
      "outputs": [
        {
          "output_type": "display_data",
          "data": {
            "image/png": "[encoded data removed]",
            "text/plain": [
              "<Figure size 504x432 with 1 Axes>"
            ]
          },
          "metadata": {}
        }
      ]
    },
    {
      "cell_type": "code",
      "metadata": {
        "colab": {
          "base_uri": "https://localhost:8080/",
          "height": 440
        },
        "id": "RFPSNKsV79Y6",
        "outputId": "e74ec462-3b9f-4d67-a0af-cb6ada50b1a0"
      },
      "source": [
        "sns.set(font_scale=1.4)\n",
        "df_true['subject'].value_counts().plot(kind='barh', figsize=(7, 6), rot=0)\n",
        "plt.xlabel(\"Count\", labelpad=14)\n",
        "plt.ylabel(\"News from Subjects\", labelpad=14)\n",
        "plt.title(\"Real news count by Subjects\", y=1.02);"
      ],
      "execution_count": 31,
      "outputs": [
        {
          "output_type": "display_data",
          "data": {
            "image/png": "[encoded data removed]",
            "text/plain": [
              "<Figure size 504x432 with 1 Axes>"
            ]
          },
          "metadata": {}
        }
      ]
    },
    {
      "cell_type": "code",
      "metadata": {
        "id": "2qqqlbT38jHf"
      },
      "source": [
        "df[['city','news','extras']]=df['text'].str.split('(Reuters)',n=1,expand=True)\n"
      ],
      "execution_count": 47,
      "outputs": []
    },
    {
      "cell_type": "code",
      "metadata": {
        "id": "syeWINNr_PTM"
      },
      "source": [
        "df['city'].str.replace(' \\(','')\n"
      ],
      "execution_count": null,
      "outputs": []
    },
    {
      "cell_type": "code",
      "metadata": {
        "id": "fAWUYKSq_vML"
      },
      "source": [
        "collection=[]\n",
        "for cities in df['city']:\n",
        "   if len(cities.replace(' (',''))>3 and len(cities.replace(' (','')) < 20:\n",
        "     collection.append(cities.replace(' (',''))"
      ],
      "execution_count": 58,
      "outputs": []
    },
    {
      "cell_type": "code",
      "metadata": {
        "id": "HJZBo2gWA0_o"
      },
      "source": [
        "collection"
      ],
      "execution_count": null,
      "outputs": []
    },
    {
      "cell_type": "code",
      "metadata": {
        "id": "-8eKlhJtBI94"
      },
      "source": [
        "unique, counts = np.unique(collection, return_counts=True)"
      ],
      "execution_count": 106,
      "outputs": []
    },
    {
      "cell_type": "code",
      "metadata": {
        "id": "CIySYnXwBOwT"
      },
      "source": [
        "count_sort_ind = np.argsort(-counts)\n",
        "unique = unique[count_sort_ind]\n",
        "counts= counts[count_sort_ind]"
      ],
      "execution_count": 107,
      "outputs": []
    },
    {
      "cell_type": "code",
      "metadata": {
        "colab": {
          "base_uri": "https://localhost:8080/"
        },
        "id": "PGmjTcT_G9Yr",
        "outputId": "ff4091e1-1222-4058-e383-694be481d533"
      },
      "source": [
        "print(counts)"
      ],
      "execution_count": 113,
      "outputs": [
        {
          "output_type": "stream",
          "name": "stdout",
          "text": [
            "[6390  705  695 ...    1    1    1]\n"
          ]
        }
      ]
    },
    {
      "cell_type": "code",
      "metadata": {
        "colab": {
          "base_uri": "https://localhost:8080/",
          "height": 768
        },
        "id": "PZEwILyxCTdI",
        "outputId": "739373e5-fbb0-4d0b-ec9d-0f5cd18c85a9"
      },
      "source": [
        "sns.set(font_scale=1.4)\n",
        "df_cities = pd.DataFrame({'Cities':unique[:24], 'Count':counts[:24]})\n",
        "ax = df_cities.plot(x='Cities', y='Count',kind='bar', figsize=(10, 10))\n",
        "plt.xlabel(\"Count\")\n",
        "plt.ylabel(\"News from cities\")\n",
        "plt.title(\"Top 25 Cities\", y=1.02);"
      ],
      "execution_count": 121,
      "outputs": [
        {
          "output_type": "display_data",
          "data": {
            "image/png": "[encoded data removed]",
            "text/plain": [
              "<Figure size 720x720 with 1 Axes>"
            ]
          },
          "metadata": {}
        }
      ]
    },
    {
      "cell_type": "code",
      "metadata": {
        "colab": {
          "base_uri": "https://localhost:8080/",
          "height": 206
        },
        "id": "-USJvrywEN75",
        "outputId": "01a90cf5-5659-4bf0-ca2d-ea0e05cceb12"
      },
      "source": [
        "df.head()"
      ],
      "execution_count": 33,
      "outputs": [
        {
          "output_type": "execute_result",
          "data": {
            "text/html": [
              "<div>\n",
              "<style scoped>\n",
              "    .dataframe tbody tr th:only-of-type {\n",
              "        vertical-align: middle;\n",
              "    }\n",
              "\n",
              "    .dataframe tbody tr th {\n",
              "        vertical-align: top;\n",
              "    }\n",
              "\n",
              "    .dataframe thead th {\n",
              "        text-align: right;\n",
              "    }\n",
              "</style>\n",
              "<table border=\"1\" class=\"dataframe\">\n",
              "  <thead>\n",
              "    <tr style=\"text-align: right;\">\n",
              "      <th></th>\n",
              "      <th>title</th>\n",
              "      <th>text</th>\n",
              "      <th>subject</th>\n",
              "      <th>date</th>\n",
              "      <th>label</th>\n",
              "    </tr>\n",
              "  </thead>\n",
              "  <tbody>\n",
              "    <tr>\n",
              "      <th>0</th>\n",
              "      <td>Donald Trump Sends Out Embarrassing New Year’...</td>\n",
              "      <td>Donald Trump just couldn t wish all Americans ...</td>\n",
              "      <td>News</td>\n",
              "      <td>December 31, 2017</td>\n",
              "      <td>Fake</td>\n",
              "    </tr>\n",
              "    <tr>\n",
              "      <th>1</th>\n",
              "      <td>Drunk Bragging Trump Staffer Started Russian ...</td>\n",
              "      <td>House Intelligence Committee Chairman Devin Nu...</td>\n",
              "      <td>News</td>\n",
              "      <td>December 31, 2017</td>\n",
              "      <td>Fake</td>\n",
              "    </tr>\n",
              "    <tr>\n",
              "      <th>2</th>\n",
              "      <td>Sheriff David Clarke Becomes An Internet Joke...</td>\n",
              "      <td>On Friday, it was revealed that former Milwauk...</td>\n",
              "      <td>News</td>\n",
              "      <td>December 30, 2017</td>\n",
              "      <td>Fake</td>\n",
              "    </tr>\n",
              "    <tr>\n",
              "      <th>3</th>\n",
              "      <td>Trump Is So Obsessed He Even Has Obama’s Name...</td>\n",
              "      <td>On Christmas day, Donald Trump announced that ...</td>\n",
              "      <td>News</td>\n",
              "      <td>December 29, 2017</td>\n",
              "      <td>Fake</td>\n",
              "    </tr>\n",
              "    <tr>\n",
              "      <th>4</th>\n",
              "      <td>Pope Francis Just Called Out Donald Trump Dur...</td>\n",
              "      <td>Pope Francis used his annual Christmas Day mes...</td>\n",
              "      <td>News</td>\n",
              "      <td>December 25, 2017</td>\n",
              "      <td>Fake</td>\n",
              "    </tr>\n",
              "  </tbody>\n",
              "</table>\n",
              "</div>"
            ],
            "text/plain": [
              "                                               title  ... label\n",
              "0   Donald Trump Sends Out Embarrassing New Year’...  ...  Fake\n",
              "1   Drunk Bragging Trump Staffer Started Russian ...  ...  Fake\n",
              "2   Sheriff David Clarke Becomes An Internet Joke...  ...  Fake\n",
              "3   Trump Is So Obsessed He Even Has Obama’s Name...  ...  Fake\n",
              "4   Pope Francis Just Called Out Donald Trump Dur...  ...  Fake\n",
              "\n",
              "[5 rows x 5 columns]"
            ]
          },
          "metadata": {},
          "execution_count": 33
        }
      ]
    },
    {
      "cell_type": "code",
      "metadata": {
        "id": "fptORBcD35mw"
      },
      "source": [
        "df.plot.bar(x='lab', y='val', rot=0)"
      ],
      "execution_count": null,
      "outputs": []
    },
    {
      "cell_type": "code",
      "metadata": {
        "colab": {
          "base_uri": "https://localhost:8080/"
        },
        "id": "z6ztio-IETBP",
        "outputId": "3b01f076-b735-4657-9a3a-56bf7a02d197"
      },
      "source": [
        "print(\"Record:\",len(df))"
      ],
      "execution_count": null,
      "outputs": [
        {
          "output_type": "stream",
          "name": "stdout",
          "text": [
            "Record: 44898\n"
          ]
        }
      ]
    },
    {
      "cell_type": "code",
      "metadata": {
        "colab": {
          "base_uri": "https://localhost:8080/",
          "height": 206
        },
        "id": "1spL7eflFuPO",
        "outputId": "e8314c49-43e7-4e7d-ec6e-ca8869846e80"
      },
      "source": [
        "X.head()"
      ],
      "execution_count": null,
      "outputs": [
        {
          "output_type": "execute_result",
          "data": {
            "text/html": [
              "<div>\n",
              "<style scoped>\n",
              "    .dataframe tbody tr th:only-of-type {\n",
              "        vertical-align: middle;\n",
              "    }\n",
              "\n",
              "    .dataframe tbody tr th {\n",
              "        vertical-align: top;\n",
              "    }\n",
              "\n",
              "    .dataframe thead th {\n",
              "        text-align: right;\n",
              "    }\n",
              "</style>\n",
              "<table border=\"1\" class=\"dataframe\">\n",
              "  <thead>\n",
              "    <tr style=\"text-align: right;\">\n",
              "      <th></th>\n",
              "      <th>title</th>\n",
              "      <th>text</th>\n",
              "      <th>subject</th>\n",
              "    </tr>\n",
              "  </thead>\n",
              "  <tbody>\n",
              "    <tr>\n",
              "      <th>1</th>\n",
              "      <td>Drunk Bragging Trump Staffer Started Russian ...</td>\n",
              "      <td>House Intelligence Committee Chairman Devin Nu...</td>\n",
              "      <td>News</td>\n",
              "    </tr>\n",
              "    <tr>\n",
              "      <th>2</th>\n",
              "      <td>Sheriff David Clarke Becomes An Internet Joke...</td>\n",
              "      <td>On Friday, it was revealed that former Milwauk...</td>\n",
              "      <td>News</td>\n",
              "    </tr>\n",
              "    <tr>\n",
              "      <th>3</th>\n",
              "      <td>Trump Is So Obsessed He Even Has Obama’s Name...</td>\n",
              "      <td>On Christmas day, Donald Trump announced that ...</td>\n",
              "      <td>News</td>\n",
              "    </tr>\n",
              "    <tr>\n",
              "      <th>4</th>\n",
              "      <td>Pope Francis Just Called Out Donald Trump Dur...</td>\n",
              "      <td>Pope Francis used his annual Christmas Day mes...</td>\n",
              "      <td>News</td>\n",
              "    </tr>\n",
              "    <tr>\n",
              "      <th>5</th>\n",
              "      <td>Racist Alabama Cops Brutalize Black Boy While...</td>\n",
              "      <td>The number of cases of cops brutalizing and ki...</td>\n",
              "      <td>News</td>\n",
              "    </tr>\n",
              "  </tbody>\n",
              "</table>\n",
              "</div>"
            ],
            "text/plain": [
              "                                               title  ... subject\n",
              "1   Drunk Bragging Trump Staffer Started Russian ...  ...    News\n",
              "2   Sheriff David Clarke Becomes An Internet Joke...  ...    News\n",
              "3   Trump Is So Obsessed He Even Has Obama’s Name...  ...    News\n",
              "4   Pope Francis Just Called Out Donald Trump Dur...  ...    News\n",
              "5   Racist Alabama Cops Brutalize Black Boy While...  ...    News\n",
              "\n",
              "[5 rows x 3 columns]"
            ]
          },
          "metadata": {},
          "execution_count": 35
        }
      ]
    },
    {
      "cell_type": "code",
      "metadata": {
        "id": "74g8svAA3nya",
        "colab": {
          "base_uri": "https://localhost:8080/"
        },
        "outputId": "375e08b1-1710-4e9b-f565-8cce36a82eef"
      },
      "source": [
        "df.shape"
      ],
      "execution_count": null,
      "outputs": [
        {
          "output_type": "execute_result",
          "data": {
            "text/plain": [
              "(38639, 5)"
            ]
          },
          "metadata": {},
          "execution_count": 55
        }
      ]
    },
    {
      "cell_type": "code",
      "metadata": {
        "id": "aQkxr9ml3n0t"
      },
      "source": [
        "df['text'] = df['text'].str.strip()\n",
        "df['text'] = df['text'].replace(r'^\\s*$', np.nan, regex=True)"
      ],
      "execution_count": null,
      "outputs": []
    },
    {
      "cell_type": "code",
      "metadata": {
        "id": "l43iCylm35Mr"
      },
      "source": [
        "# Remove all rows where complaints column is nan\n",
        "df.dropna(subset=['text'], inplace=True)"
      ],
      "execution_count": null,
      "outputs": []
    },
    {
      "cell_type": "code",
      "metadata": {
        "id": "7wHj5u2R37kD",
        "colab": {
          "base_uri": "https://localhost:8080/"
        },
        "outputId": "88a8642e-258b-4d0b-958d-bc7e45ce5efa"
      },
      "source": [
        "df_true.duplicated(subset=[\"text\"]).value_counts()"
      ],
      "execution_count": null,
      "outputs": [
        {
          "output_type": "execute_result",
          "data": {
            "text/plain": [
              "False    21192\n",
              "True       225\n",
              "dtype: int64"
            ]
          },
          "metadata": {},
          "execution_count": 47
        }
      ]
    },
    {
      "cell_type": "code",
      "metadata": {
        "id": "ZjZeO-bA37hL",
        "colab": {
          "base_uri": "https://localhost:8080/",
          "height": 293
        },
        "outputId": "e06fd259-d155-4a5e-ee19-a693602e4453"
      },
      "source": [
        "dup = df[df.duplicated(subset=[\"text\"])]\n",
        "dup.head()"
      ],
      "execution_count": null,
      "outputs": [
        {
          "output_type": "execute_result",
          "data": {
            "text/html": [
              "<div>\n",
              "<style scoped>\n",
              "    .dataframe tbody tr th:only-of-type {\n",
              "        vertical-align: middle;\n",
              "    }\n",
              "\n",
              "    .dataframe tbody tr th {\n",
              "        vertical-align: top;\n",
              "    }\n",
              "\n",
              "    .dataframe thead th {\n",
              "        text-align: right;\n",
              "    }\n",
              "</style>\n",
              "<table border=\"1\" class=\"dataframe\">\n",
              "  <thead>\n",
              "    <tr style=\"text-align: right;\">\n",
              "      <th></th>\n",
              "      <th>title</th>\n",
              "      <th>text</th>\n",
              "      <th>subject</th>\n",
              "      <th>date</th>\n",
              "      <th>label</th>\n",
              "    </tr>\n",
              "  </thead>\n",
              "  <tbody>\n",
              "    <tr>\n",
              "      <th>9114</th>\n",
              "      <td>WHY THIS BLUE-COLLAR DEMOCRAT STRONGHOLD Count...</td>\n",
              "      <td>AP News  The regulars amble in before dawn and...</td>\n",
              "      <td>politics</td>\n",
              "      <td>Dec 27, 2017</td>\n",
              "      <td>Fake</td>\n",
              "    </tr>\n",
              "    <tr>\n",
              "      <th>9738</th>\n",
              "      <td>LEFTIST STORE OWNER Makes Video Asking Libs To...</td>\n",
              "      <td>Things didn t go as well as Nicholle had hoped...</td>\n",
              "      <td>politics</td>\n",
              "      <td>Oct 6, 2017</td>\n",
              "      <td>Fake</td>\n",
              "    </tr>\n",
              "    <tr>\n",
              "      <th>9942</th>\n",
              "      <td>HILLARY TWEETS MESSAGE In Defense Of DACA…OOPS...</td>\n",
              "      <td>No time to waste   we've got to fight with eve...</td>\n",
              "      <td>politics</td>\n",
              "      <td>Sep 9, 2017</td>\n",
              "      <td>Fake</td>\n",
              "    </tr>\n",
              "    <tr>\n",
              "      <th>10924</th>\n",
              "      <td>MEDIA IGNORES Time That Bill Clinton FIRED His...</td>\n",
              "      <td>In its 109-year history, only one F.B.I. direc...</td>\n",
              "      <td>politics</td>\n",
              "      <td>May 10, 2017</td>\n",
              "      <td>Fake</td>\n",
              "    </tr>\n",
              "    <tr>\n",
              "      <th>11146</th>\n",
              "      <td>TWITTER Posts Hilarious Images After Announcem...</td>\n",
              "      <td>Here s the original post by the Washington Pos...</td>\n",
              "      <td>politics</td>\n",
              "      <td>Apr 13, 2017</td>\n",
              "      <td>Fake</td>\n",
              "    </tr>\n",
              "  </tbody>\n",
              "</table>\n",
              "</div>"
            ],
            "text/plain": [
              "                                                   title  ... label\n",
              "9114   WHY THIS BLUE-COLLAR DEMOCRAT STRONGHOLD Count...  ...  Fake\n",
              "9738   LEFTIST STORE OWNER Makes Video Asking Libs To...  ...  Fake\n",
              "9942   HILLARY TWEETS MESSAGE In Defense Of DACA…OOPS...  ...  Fake\n",
              "10924  MEDIA IGNORES Time That Bill Clinton FIRED His...  ...  Fake\n",
              "11146  TWITTER Posts Hilarious Images After Announcem...  ...  Fake\n",
              "\n",
              "[5 rows x 5 columns]"
            ]
          },
          "metadata": {},
          "execution_count": 48
        }
      ]
    },
    {
      "cell_type": "code",
      "metadata": {
        "id": "u5glGIND3n4c",
        "colab": {
          "base_uri": "https://localhost:8080/",
          "height": 147
        },
        "outputId": "cf959b77-e9d7-41bb-cd40-b07ba0d83725"
      },
      "source": [
        "# print one duplicate entry\n",
        "df[df['text'] == dup.iloc[100]['text']]"
      ],
      "execution_count": null,
      "outputs": [
        {
          "output_type": "execute_result",
          "data": {
            "text/html": [
              "<div>\n",
              "<style scoped>\n",
              "    .dataframe tbody tr th:only-of-type {\n",
              "        vertical-align: middle;\n",
              "    }\n",
              "\n",
              "    .dataframe tbody tr th {\n",
              "        vertical-align: top;\n",
              "    }\n",
              "\n",
              "    .dataframe thead th {\n",
              "        text-align: right;\n",
              "    }\n",
              "</style>\n",
              "<table border=\"1\" class=\"dataframe\">\n",
              "  <thead>\n",
              "    <tr style=\"text-align: right;\">\n",
              "      <th></th>\n",
              "      <th>title</th>\n",
              "      <th>text</th>\n",
              "      <th>subject</th>\n",
              "      <th>date</th>\n",
              "      <th>label</th>\n",
              "    </tr>\n",
              "  </thead>\n",
              "  <tbody>\n",
              "    <tr>\n",
              "      <th>10268</th>\n",
              "      <td>HOW PRESIDENT TRUMP Can Remove Congress From T...</td>\n",
              "      <td>President Trump tweeted that he was considerin...</td>\n",
              "      <td>politics</td>\n",
              "      <td>Jul 30, 2017</td>\n",
              "      <td>Fake</td>\n",
              "    </tr>\n",
              "    <tr>\n",
              "      <th>16001</th>\n",
              "      <td>HOW PRESIDENT TRUMP Can Remove Congress From T...</td>\n",
              "      <td>President Trump tweeted that he was considerin...</td>\n",
              "      <td>Government News</td>\n",
              "      <td>Jul 30, 2017</td>\n",
              "      <td>Fake</td>\n",
              "    </tr>\n",
              "  </tbody>\n",
              "</table>\n",
              "</div>"
            ],
            "text/plain": [
              "                                                   title  ... label\n",
              "10268  HOW PRESIDENT TRUMP Can Remove Congress From T...  ...  Fake\n",
              "16001  HOW PRESIDENT TRUMP Can Remove Congress From T...  ...  Fake\n",
              "\n",
              "[2 rows x 5 columns]"
            ]
          },
          "metadata": {},
          "execution_count": 53
        }
      ]
    },
    {
      "cell_type": "code",
      "metadata": {
        "id": "JtwuSuij4Gjn",
        "colab": {
          "base_uri": "https://localhost:8080/"
        },
        "outputId": "f474f717-c8c8-49b9-9103-46731059da0b"
      },
      "source": [
        "# drop duplicated data\n",
        "df = df.drop_duplicates(subset={\"text\"}, keep='first', inplace=False)\n",
        "df.shape"
      ],
      "execution_count": null,
      "outputs": [
        {
          "output_type": "execute_result",
          "data": {
            "text/plain": [
              "(38639, 5)"
            ]
          },
          "metadata": {},
          "execution_count": 54
        }
      ]
    },
    {
      "cell_type": "code",
      "metadata": {
        "id": "gaAROUKK4Iys"
      },
      "source": [
        "# Checking for missing values in the dataset\n",
        "df.isnull().sum()"
      ],
      "execution_count": null,
      "outputs": []
    },
    {
      "cell_type": "code",
      "metadata": {
        "id": "SnzbteNT4LKG"
      },
      "source": [
        "# dropping the nan values\n",
        "df = df.fillna('')"
      ],
      "execution_count": null,
      "outputs": []
    },
    {
      "cell_type": "code",
      "metadata": {
        "id": "cJEmIjoa4N-p",
        "colab": {
          "base_uri": "https://localhost:8080/"
        },
        "outputId": "06733198-c46e-4e46-adfb-de20d998e294"
      },
      "source": [
        "stopword_list = stopwords.words('english')\n",
        "print(stopword_list)"
      ],
      "execution_count": null,
      "outputs": [
        {
          "output_type": "stream",
          "name": "stdout",
          "text": [
            "['i', 'me', 'my', 'myself', 'we', 'our', 'ours', 'ourselves', 'you', \"you're\", \"you've\", \"you'll\", \"you'd\", 'your', 'yours', 'yourself', 'yourselves', 'he', 'him', 'his', 'himself', 'she', \"she's\", 'her', 'hers', 'herself', 'it', \"it's\", 'its', 'itself', 'they', 'them', 'their', 'theirs', 'themselves', 'what', 'which', 'who', 'whom', 'this', 'that', \"that'll\", 'these', 'those', 'am', 'is', 'are', 'was', 'were', 'be', 'been', 'being', 'have', 'has', 'had', 'having', 'do', 'does', 'did', 'doing', 'a', 'an', 'the', 'and', 'but', 'if', 'or', 'because', 'as', 'until', 'while', 'of', 'at', 'by', 'for', 'with', 'about', 'against', 'between', 'into', 'through', 'during', 'before', 'after', 'above', 'below', 'to', 'from', 'up', 'down', 'in', 'out', 'on', 'off', 'over', 'under', 'again', 'further', 'then', 'once', 'here', 'there', 'when', 'where', 'why', 'how', 'all', 'any', 'both', 'each', 'few', 'more', 'most', 'other', 'some', 'such', 'no', 'nor', 'not', 'only', 'own', 'same', 'so', 'than', 'too', 'very', 's', 't', 'can', 'will', 'just', 'don', \"don't\", 'should', \"should've\", 'now', 'd', 'll', 'm', 'o', 're', 've', 'y', 'ain', 'aren', \"aren't\", 'couldn', \"couldn't\", 'didn', \"didn't\", 'doesn', \"doesn't\", 'hadn', \"hadn't\", 'hasn', \"hasn't\", 'haven', \"haven't\", 'isn', \"isn't\", 'ma', 'mightn', \"mightn't\", 'mustn', \"mustn't\", 'needn', \"needn't\", 'shan', \"shan't\", 'shouldn', \"shouldn't\", 'wasn', \"wasn't\", 'weren', \"weren't\", 'won', \"won't\", 'wouldn', \"wouldn't\"]\n"
          ]
        }
      ]
    },
    {
      "cell_type": "code",
      "metadata": {
        "id": "mV0p4EDd4RkX"
      },
      "source": [
        "!pip install contractions"
      ],
      "execution_count": null,
      "outputs": []
    },
    {
      "cell_type": "code",
      "metadata": {
        "id": "gkexvSMk4Wn5"
      },
      "source": [
        "import contractions\n",
        "def decontracted(sentance):\n",
        "    expanded_words = []    \n",
        "    for word in sentance.split():\n",
        "      # using contractions.fix to expand the shotened words\n",
        "      expanded_words.append(contractions.fix(word))   \n",
        "\n",
        "    expanded_text = ' '.join(expanded_words)\n",
        "    return expanded_text"
      ],
      "execution_count": null,
      "outputs": []
    },
    {
      "cell_type": "code",
      "metadata": {
        "id": "xYQej1eT4Z7W"
      },
      "source": [
        "def sentance_clean(sentance):\n",
        "    # change sentence to lower case\n",
        "    sentance = sentance.lower()\n",
        "    # removing URL from sentence\n",
        "    sentance = re.sub(r\"http\\S+\", \"\", sentance)\n",
        "    # removing HTML tags\n",
        "    sentance = BeautifulSoup(sentance, 'lxml').get_text()\n",
        "    # removing contraction of words from sentence   # call decontracted funtion for it\n",
        "    sentance = decontracted(sentance)\n",
        "    # removing digits\n",
        "    sentance = re.sub(\"\\S*\\d\\S*\", \"\", sentance).strip()\n",
        "    # removing special character\n",
        "    sentance = re.sub('[^A-Za-z]+', ' ', sentance)\n",
        "    \n",
        "    return sentance"
      ],
      "execution_count": null,
      "outputs": []
    },
    {
      "cell_type": "code",
      "metadata": {
        "id": "i4VFniOStSOh"
      },
      "source": [
        ""
      ],
      "execution_count": null,
      "outputs": []
    },
    {
      "cell_type": "code",
      "metadata": {
        "id": "-y92_f4F4eJS"
      },
      "source": [
        "# Use Stemming \n",
        "ps = PorterStemmer()\n",
        "\n",
        "# Performing the preprocessing steps on all messages\n",
        "def preprocess(document):\n",
        "    preprocessed_reviews = []\n",
        "    # tqdm is for printing the status bar\n",
        "    for sentance in tqdm(document):\n",
        "        # call sentance_clean function to clean text\n",
        "        sentance = sentance_clean(sentance)\n",
        "        # tokenize into words\n",
        "        words = word_tokenize(sentance)\n",
        "        # remove stop words\n",
        "        tokens = [ps.stem(word) for word in words if word not in stopword_list]\n",
        "\n",
        "        # join words to make sentence\n",
        "        sentance = \" \".join(tokens).strip()\n",
        "\n",
        "        preprocessed_reviews.append(sentance)\n",
        "        \n",
        "    return preprocessed_reviews"
      ],
      "execution_count": null,
      "outputs": []
    },
    {
      "cell_type": "code",
      "metadata": {
        "id": "fzmek0rx4gqN",
        "colab": {
          "base_uri": "https://localhost:8080/"
        },
        "outputId": "8b9826ef-cd9e-4a51-ca63-dac29b3ba15f"
      },
      "source": [
        "%%time\n",
        "corpus = preprocess(df['text'])"
      ],
      "execution_count": null,
      "outputs": [
        {
          "output_type": "stream",
          "name": "stderr",
          "text": [
            "100%|██████████| 38639/38639 [07:07<00:00, 90.47it/s]"
          ]
        },
        {
          "output_type": "stream",
          "name": "stdout",
          "text": [
            "CPU times: user 7min 2s, sys: 2.88 s, total: 7min 5s\n",
            "Wall time: 7min 7s\n"
          ]
        },
        {
          "output_type": "stream",
          "name": "stderr",
          "text": [
            "\n"
          ]
        }
      ]
    },
    {
      "cell_type": "code",
      "metadata": {
        "id": "zipPMhB44j1D",
        "colab": {
          "base_uri": "https://localhost:8080/"
        },
        "outputId": "0088582c-1e69-4315-bef6-f5fb4905a91f"
      },
      "source": [
        "print(\"Before preprocess\\n\", df['text'][12])\n",
        "print(\"***\"*40)\n",
        "print(\"After preprocess\\n\", corpus[12])"
      ],
      "execution_count": null,
      "outputs": [
        {
          "output_type": "stream",
          "name": "stdout",
          "text": [
            "Before preprocess\n",
            " 12    Republicans have had seven years to come up wi...\n",
            "12    The following statements were posted to the ve...\n",
            "Name: text, dtype: object\n",
            "************************************************************************************************************************\n",
            "After preprocess\n",
            " republican seven year come viabl replac obamacar fail miser take victori lap gift wealthi tax break wednesday donald trump look camera said essenti repeal obamacar come someth much better obamacar repeal bill ad well like thing trump say true former realiti show star could done order erad former presid obama signatur legisl would without offer altern senat major leader mitch mcconnel told npr bipartisan year hope new year go pivot becom cooper obamacar repeal doa well obvious unabl complet repeal replac senat kentucki republican said take look look like senat think probabl move issu npr report mcconnel hope focu instead stabil insur marketplac keep premium skyrocket earli month promis made moder republican sen susan collin main get support tax bill top mcconnel broke hous speaker paul ryan r wi approach pare back spend program like medicaid food stamp mcconnel told npr interest use senat budget rule allow republican cut entitl without consult democrat think entitl chang sustain almost alway bipartisan mcconnel said hous may differ agenda democrat friend senat want join us tackl kind entitl reform happi take look come mitch mcconnel know donald trump destroy gop matter sen mcconnel still recal say number one prioriti make sure presid obama one term presid well hope trump last full term funni work photo chip somodevilla getti imag\n"
          ]
        }
      ]
    },
    {
      "cell_type": "code",
      "metadata": {
        "id": "8LIbQJBb4oyG"
      },
      "source": [
        "df['text'] = corpus"
      ],
      "execution_count": null,
      "outputs": []
    },
    {
      "cell_type": "code",
      "metadata": {
        "id": "7btgGWeM4tHd"
      },
      "source": [
        "# Seperating the data and the label \n",
        "x = df['text'].values\n",
        "y = df['label'].values"
      ],
      "execution_count": null,
      "outputs": []
    },
    {
      "cell_type": "code",
      "metadata": {
        "id": "Q0iCizYH4xvi"
      },
      "source": [
        "tfidf_vectorizer = TfidfVectorizer(max_features=5000, ngram_range=(1,3))\n",
        "X = tfidf_vectorizer.fit_transform(x)"
      ],
      "execution_count": null,
      "outputs": []
    },
    {
      "cell_type": "code",
      "metadata": {
        "id": "PDQDDkwi4z2T"
      },
      "source": [
        "# split data\n",
        "X_train, X_test, y_train, y_test = train_test_split(X, y, test_size=0.20, random_state=0)"
      ],
      "execution_count": null,
      "outputs": []
    },
    {
      "cell_type": "code",
      "metadata": {
        "id": "IGOc1ITZ42MZ",
        "colab": {
          "base_uri": "https://localhost:8080/"
        },
        "outputId": "d72f88cc-8833-4ba1-f5db-0b3e6e17bf21"
      },
      "source": [
        "print(\"Train size:\", X_train.shape)\n",
        "print(\"Test size:\", X_test.shape)"
      ],
      "execution_count": null,
      "outputs": [
        {
          "output_type": "stream",
          "name": "stdout",
          "text": [
            "Train size: (30911, 5000)\n",
            "Test size: (7728, 5000)\n"
          ]
        }
      ]
    },
    {
      "cell_type": "code",
      "metadata": {
        "id": "UiYBe9YR49bu"
      },
      "source": [
        "def plot_confusion_matrix(y_actual, y_pred):\n",
        "    '''\n",
        "    This method plots confusion matrix.\n",
        "    '''\n",
        "    classes = ['Fake News', 'Real News']\n",
        "    tick_marks = np.arange(len(classes))\n",
        "\n",
        "    accuracy = accuracy_score(y_actual, y_pred)\n",
        "    print(\"Accuracy score:\", \"{:2.3}\".format(accuracy))\n",
        "\n",
        "    conf_matrix = confusion_matrix(y_actual, y_pred)\n",
        "\n",
        "    fig, ax = plt.subplots(figsize=(4, 4))\n",
        "    ax.matshow(conf_matrix, cmap=plt.cm.Reds, alpha=0.3)\n",
        "    for i in range(conf_matrix.shape[0]):\n",
        "        for j in range(conf_matrix.shape[1]):\n",
        "            ax.text(x=j, y=i,s=conf_matrix[i, j], va='center', ha='center')\n",
        "    \n",
        "    plt.tight_layout()\n",
        "    plt.xticks(tick_marks , classes, rotation=0)\n",
        "    plt.yticks(tick_marks , classes)\n",
        "    plt.xlabel('Predictions')\n",
        "    plt.ylabel('Actuals')\n",
        "    plt.title('Confusion Matrix', fontsize=12)\n",
        "    plt.show()"
      ],
      "execution_count": null,
      "outputs": []
    },
    {
      "cell_type": "code",
      "metadata": {
        "id": "CWQV_jGX4-WP"
      },
      "source": [
        "metrics_dict = {}"
      ],
      "execution_count": null,
      "outputs": []
    },
    {
      "cell_type": "code",
      "metadata": {
        "id": "HrmABfA05A8r",
        "colab": {
          "base_uri": "https://localhost:8080/"
        },
        "outputId": "01c3bd13-ccbd-485e-d482-771b5ba66d95"
      },
      "source": [
        "#  logistic regression object\n",
        "model = LogisticRegression(C=5)\n",
        "model.fit(X_train, y_train)"
      ],
      "execution_count": null,
      "outputs": [
        {
          "output_type": "execute_result",
          "data": {
            "text/plain": [
              "LogisticRegression(C=5)"
            ]
          },
          "metadata": {},
          "execution_count": 88
        }
      ]
    },
    {
      "cell_type": "code",
      "metadata": {
        "id": "BQq3Aog-5Fs2"
      },
      "source": [
        "# predict on train data\n",
        "X_train_predict = model.predict(X_train)\n",
        "# train_accuracy\n",
        "train_accuracy = accuracy_score(y_train, X_train_predict)\n",
        "\n",
        "# predict on test data\n",
        "X_test_predict = model.predict(X_test)\n",
        "# test_accuracy\n",
        "test_accuracy = accuracy_score(y_test, X_test_predict)"
      ],
      "execution_count": null,
      "outputs": []
    },
    {
      "cell_type": "code",
      "metadata": {
        "id": "h9H9nuEk5IVX"
      },
      "source": [
        "accuracy = accuracy_score(y_test, X_test_predict)\n",
        "LR_TF_TFIDF = {'Vectorizer': 'TF-IDF', 'Algorithm': 'Logistic_Regression_1', \n",
        "               'Train Accuracy':train_accuracy, 'Test Accuracy':test_accuracy}\n",
        "metrics_dict['Logistic_Regression_TF_IDF'] = LR_TF_TFIDF"
      ],
      "execution_count": null,
      "outputs": []
    },
    {
      "cell_type": "code",
      "metadata": {
        "id": "yaNdRGLb5LPA",
        "colab": {
          "base_uri": "https://localhost:8080/",
          "height": 336
        },
        "outputId": "fdac1dad-9289-492d-85ad-ad7065643089"
      },
      "source": [
        "# plot confusion matrix on test\n",
        "plot_confusion_matrix(y_test, X_test_predict)"
      ],
      "execution_count": null,
      "outputs": [
        {
          "output_type": "stream",
          "name": "stdout",
          "text": [
            "Accuracy score: 0.991\n"
          ]
        },
        {
          "output_type": "display_data",
          "data": {
            "image/png": "[encoded data removed]",
            "text/plain": [
              "<Figure size 288x288 with 1 Axes>"
            ]
          },
          "metadata": {
            "needs_background": "light"
          }
        }
      ]
    },
    {
      "cell_type": "code",
      "metadata": {
        "colab": {
          "base_uri": "https://localhost:8080/"
        },
        "id": "FkP8c6h9LKOg",
        "outputId": "715521e5-3155-4676-cfef-e20418d7bb5e"
      },
      "source": [
        "print(classification_report(list(y_test),X_test_predict))"
      ],
      "execution_count": null,
      "outputs": [
        {
          "output_type": "stream",
          "name": "stdout",
          "text": [
            "              precision    recall  f1-score   support\n",
            "\n",
            "        Fake       0.99      0.99      0.99      3491\n",
            "        True       0.99      0.99      0.99      4237\n",
            "\n",
            "    accuracy                           0.99      7728\n",
            "   macro avg       0.99      0.99      0.99      7728\n",
            "weighted avg       0.99      0.99      0.99      7728\n",
            "\n"
          ]
        }
      ]
    },
    {
      "cell_type": "markdown",
      "metadata": {
        "id": "o1p5WbHC5U8l"
      },
      "source": [
        "------------------------------------------------------------------------------------------"
      ]
    },
    {
      "cell_type": "code",
      "metadata": {
        "id": "uo6_N09c5WU0",
        "colab": {
          "base_uri": "https://localhost:8080/"
        },
        "outputId": "28ea5b7d-157c-4ace-fb07-33aba6181d3e"
      },
      "source": [
        "#Naive Bayes\n",
        "nb_model = MultinomialNB(alpha=0.8)\n",
        "nb_model.fit(X_train, y_train)"
      ],
      "execution_count": null,
      "outputs": [
        {
          "output_type": "execute_result",
          "data": {
            "text/plain": [
              "MultinomialNB(alpha=0.8)"
            ]
          },
          "metadata": {},
          "execution_count": 80
        }
      ]
    },
    {
      "cell_type": "code",
      "metadata": {
        "id": "fcvIyYFX5gNE"
      },
      "source": [
        "# predict on train data\n",
        "X_train_predict = nb_model.predict(X_train)\n",
        "# train_accuracy\n",
        "train_accuracy = accuracy_score(y_train, X_train_predict)\n",
        "\n",
        "# predict on test data\n",
        "X_test_predict = nb_model.predict(X_test)\n",
        "# test_accuracy\n",
        "test_accuracy = accuracy_score(y_test, X_test_predict)"
      ],
      "execution_count": null,
      "outputs": []
    },
    {
      "cell_type": "code",
      "metadata": {
        "id": "9iH_t6bn5joR"
      },
      "source": [
        "NB_TF_TFIDF = {'Vectorizer': 'TF-IDF', 'Algorithm': 'Naive_Bayes_1', \n",
        "               'Train Accuracy':train_accuracy, 'Test Accuracy':test_accuracy}\n",
        "metrics_dict['Naive_Bayes_TF_IDF'] = NB_TF_TFIDF"
      ],
      "execution_count": null,
      "outputs": []
    },
    {
      "cell_type": "code",
      "metadata": {
        "id": "bVaQRman6v8S",
        "colab": {
          "base_uri": "https://localhost:8080/",
          "height": 336
        },
        "outputId": "f8347da7-83d3-4982-f2f7-918392575960"
      },
      "source": [
        "plot_confusion_matrix(y_test, X_test_predict)"
      ],
      "execution_count": null,
      "outputs": [
        {
          "output_type": "stream",
          "name": "stdout",
          "text": [
            "Accuracy score: 0.941\n"
          ]
        },
        {
          "output_type": "display_data",
          "data": {
            "image/png": "[encoded data removed]",
            "text/plain": [
              "<Figure size 288x288 with 1 Axes>"
            ]
          },
          "metadata": {
            "needs_background": "light"
          }
        }
      ]
    },
    {
      "cell_type": "code",
      "metadata": {
        "id": "GDiQrGP-69Dh"
      },
      "source": [
        "def metrics_table(metrics_dict):\n",
        "    '''\n",
        "    Metrics evolution table.\n",
        "    '''   \n",
        "    df = []\n",
        "    for key, value in metrics_dict.items():\n",
        "        df.append(metrics_dict[key])\n",
        "    df = pd.DataFrame(df)\n",
        "    df.set_index('Algorithm', inplace=True)\n",
        "    return df"
      ],
      "execution_count": null,
      "outputs": []
    },
    {
      "cell_type": "code",
      "metadata": {
        "colab": {
          "base_uri": "https://localhost:8080/"
        },
        "id": "5XbSHeZOK2-Q",
        "outputId": "3c66a053-a582-47c1-fe4f-a803de915210"
      },
      "source": [
        "print(classification_report(list(y_test),X_test_predict))"
      ],
      "execution_count": null,
      "outputs": [
        {
          "output_type": "stream",
          "name": "stdout",
          "text": [
            "              precision    recall  f1-score   support\n",
            "\n",
            "        Fake       0.94      0.93      0.93      3491\n",
            "        True       0.94      0.95      0.95      4237\n",
            "\n",
            "    accuracy                           0.94      7728\n",
            "   macro avg       0.94      0.94      0.94      7728\n",
            "weighted avg       0.94      0.94      0.94      7728\n",
            "\n"
          ]
        }
      ]
    },
    {
      "cell_type": "code",
      "metadata": {
        "id": "fHMrhkZS6_z4",
        "colab": {
          "base_uri": "https://localhost:8080/",
          "height": 143
        },
        "outputId": "14c4cbf3-09dc-44b6-c9ad-47cc6afd030c"
      },
      "source": [
        "metrics_table(metrics_dict)"
      ],
      "execution_count": null,
      "outputs": [
        {
          "output_type": "execute_result",
          "data": {
            "text/html": [
              "<div>\n",
              "<style scoped>\n",
              "    .dataframe tbody tr th:only-of-type {\n",
              "        vertical-align: middle;\n",
              "    }\n",
              "\n",
              "    .dataframe tbody tr th {\n",
              "        vertical-align: top;\n",
              "    }\n",
              "\n",
              "    .dataframe thead th {\n",
              "        text-align: right;\n",
              "    }\n",
              "</style>\n",
              "<table border=\"1\" class=\"dataframe\">\n",
              "  <thead>\n",
              "    <tr style=\"text-align: right;\">\n",
              "      <th></th>\n",
              "      <th>Vectorizer</th>\n",
              "      <th>Train Accuracy</th>\n",
              "      <th>Test Accuracy</th>\n",
              "    </tr>\n",
              "    <tr>\n",
              "      <th>Algorithm</th>\n",
              "      <th></th>\n",
              "      <th></th>\n",
              "      <th></th>\n",
              "    </tr>\n",
              "  </thead>\n",
              "  <tbody>\n",
              "    <tr>\n",
              "      <th>Logistic_Regression_1</th>\n",
              "      <td>TF-IDF</td>\n",
              "      <td>0.997121</td>\n",
              "      <td>0.991460</td>\n",
              "    </tr>\n",
              "    <tr>\n",
              "      <th>Naive_Bayes_1</th>\n",
              "      <td>TF-IDF</td>\n",
              "      <td>0.946427</td>\n",
              "      <td>0.940735</td>\n",
              "    </tr>\n",
              "  </tbody>\n",
              "</table>\n",
              "</div>"
            ],
            "text/plain": [
              "                      Vectorizer  Train Accuracy  Test Accuracy\n",
              "Algorithm                                                      \n",
              "Logistic_Regression_1     TF-IDF        0.997121       0.991460\n",
              "Naive_Bayes_1             TF-IDF        0.946427       0.940735"
            ]
          },
          "metadata": {},
          "execution_count": 85
        }
      ]
    },
    {
      "cell_type": "code",
      "metadata": {
        "id": "E4XMlMpWK9JD"
      },
      "source": [
        ""
      ],
      "execution_count": null,
      "outputs": []
    }
  ]
}